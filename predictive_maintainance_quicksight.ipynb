{
 "cells": [
  {
   "cell_type": "code",
   "execution_count": 111,
   "id": "8f08a456-123c-4a04-96a2-e496af83e5c4",
   "metadata": {},
   "outputs": [],
   "source": [
    "import pandas as pd\n",
    "import numpy as np\n",
    "from sklearn.model_selection import train_test_split\n",
    "from sklearn.ensemble import RandomForestClassifier\n",
    "from sklearn.metrics import accuracy_score, classification_report, confusion_matrix\n",
    "\n",
    "\n"
   ]
  },
  {
   "cell_type": "code",
   "execution_count": 113,
   "id": "a90d5d7e-bf36-4011-80ae-48a02d65653b",
   "metadata": {},
   "outputs": [],
   "source": [
    "\"\"\"load data\"\"\"\n",
    "data = pd.read_csv(\"/Users/wangtiles/AWS_Quicksight_project/ai4i2020.csv\")\n",
    "# data_parquet = pd.read_parquet(\"/Users/wangtiles/AWS_Quicksight_project/ai4i2020.parquet\", engine = \"pyarrow\")"
   ]
  },
  {
   "cell_type": "code",
   "execution_count": 132,
   "id": "0eea8bda-ae46-484a-9849-56918a4a4930",
   "metadata": {},
   "outputs": [
    {
     "name": "stdout",
     "output_type": "stream",
     "text": [
      "<class 'pandas.core.frame.DataFrame'>\n",
      "RangeIndex: 10000 entries, 0 to 9999\n",
      "Data columns (total 17 columns):\n",
      " #   Column                   Non-Null Count  Dtype  \n",
      "---  ------                   --------------  -----  \n",
      " 0   UDI                      10000 non-null  int64  \n",
      " 1   Product ID               10000 non-null  object \n",
      " 2   Type                     10000 non-null  object \n",
      " 3   Air temperature [K]      10000 non-null  float64\n",
      " 4   Process temperature [K]  10000 non-null  float64\n",
      " 5   Rotational speed [rpm]   10000 non-null  int64  \n",
      " 6   Torque [Nm]              10000 non-null  float64\n",
      " 7   Tool wear [min]          10000 non-null  int64  \n",
      " 8   Machine failure          10000 non-null  int64  \n",
      " 9   TWF                      10000 non-null  int64  \n",
      " 10  HDF                      10000 non-null  int64  \n",
      " 11  PWF                      10000 non-null  int64  \n",
      " 12  OSF                      10000 non-null  int64  \n",
      " 13  RNF                      10000 non-null  int64  \n",
      " 14  temperature_diff         10000 non-null  float64\n",
      " 15  power                    10000 non-null  float64\n",
      " 16  predicted_failure        10000 non-null  int64  \n",
      "dtypes: float64(5), int64(10), object(2)\n",
      "memory usage: 1.3+ MB\n"
     ]
    }
   ],
   "source": [
    "\"\"\"exploring\"\"\"\n",
    "# print(data.info())\n",
    "# (data.head(0))\n",
    "\n",
    "\n",
    "# (data_parquet.head())\n",
    "\n",
    "# data_parquet\n",
    "# data_parquet.head()\n",
    "data.describe()\n",
    "(data.info())"
   ]
  },
  {
   "cell_type": "code",
   "execution_count": 117,
   "id": "7c82db98-fc8d-4594-b12c-76c4e908b4df",
   "metadata": {},
   "outputs": [
    {
     "data": {
      "text/plain": [
       "'\\nGOAL:\\n    Predict machine failure (binary classification)\\n    Visualizing results in Amazon QuickSight.\\n'"
      ]
     },
     "execution_count": 117,
     "metadata": {},
     "output_type": "execute_result"
    }
   ],
   "source": [
    "\"\"\"\n",
    "GOAL:\n",
    "    Predict machine failure (binary classification)\n",
    "    Visualizing results in Amazon QuickSight.\n",
    "\"\"\"\n"
   ]
  },
  {
   "cell_type": "code",
   "execution_count": 118,
   "id": "d80ac405-5afe-4203-bc31-6fdf953d793e",
   "metadata": {},
   "outputs": [],
   "source": [
    "\"\"\"Feature engineering\"\"\"\n",
    "\n",
    "data['temperature_diff'] = data['Process temperature [K]'] - data['Air temperature [K]']\n",
    "data['power'] = data['Torque [Nm]'] * data['Rotational speed [rpm]'] #since power failure depends on this\n",
    "\n",
    "#save the cleaned data\n",
    "data.to_csv(\"/Users/wangtiles/AWS_Quicksight_project/dataset/cleaned_data.csv\", index=False)\n",
    "\n",
    "\n"
   ]
  },
  {
   "cell_type": "code",
   "execution_count": 122,
   "id": "3b02678d-0de4-42f5-b074-4969ad6029b2",
   "metadata": {},
   "outputs": [
    {
     "name": "stdout",
     "output_type": "stream",
     "text": [
      "Training Accuracy: 1.0\n",
      "Testing Accuracy: 0.9905\n",
      "Classification Report:\n",
      "               precision    recall  f1-score   support\n",
      "\n",
      "           0       0.99      1.00      1.00      1939\n",
      "           1       0.96      0.72      0.82        61\n",
      "\n",
      "    accuracy                           0.99      2000\n",
      "   macro avg       0.97      0.86      0.91      2000\n",
      "weighted avg       0.99      0.99      0.99      2000\n",
      "\n",
      "Confusion Matrix:\n",
      " [[1937    2]\n",
      " [  17   44]]\n"
     ]
    }
   ],
   "source": [
    "\"\"\"Developing the ML model\"\"\"\n",
    "features = ['Air temperature [K]', 'Process temperature [K]', 'Rotational speed [rpm]', \n",
    "            'Torque [Nm]', 'Tool wear [min]', 'temperature_diff', 'power']\n",
    "X = data[features]\n",
    "Y = data['Machine failure']\n",
    "\n",
    "#splitting data\n",
    "X_train, X_test, Y_train, Y_test = train_test_split(X, Y, test_size = 0.2, random_state = 42)\n",
    "\n",
    "# training a model\n",
    "# Random Forest classifier\n",
    "randforest = RandomForestClassifier(random_state = 42)\n",
    "randforest.fit(X_train, Y_train)\n",
    "\n",
    "#training accuracy\n",
    "Y_train_pred = randforest.predict(X_train)\n",
    "train_accuracy = accuracy_score(Y_train, Y_train_pred)\n",
    "print(\"Training Accuracy:\", train_accuracy)\n",
    "\n",
    "#testing accuracy\n",
    "Y_pred = randforest.predict(X_test)\n",
    "print(\"Testing Accuracy:\", accuracy_score(Y_test, Y_pred))\n",
    "\n",
    "#classification report with precision, recall, f1 score values of both the classes (0 and 1)\n",
    "print(\"Classification Report:\\n\", classification_report(Y_test, Y_pred))\n",
    "\n",
    "#confusion matrix\n",
    "conf_mat = confusion_matrix(Y_test, Y_pred)\n",
    "print(\"Confusion Matrix:\\n\", conf_mat)\n",
    "\n",
    "\n",
    "\n"
   ]
  },
  {
   "cell_type": "code",
   "execution_count": 124,
   "id": "46a16870-963b-4a95-b023-6add2e5c816b",
   "metadata": {},
   "outputs": [],
   "source": [
    "\"\"\"Saving predictions\"\"\"\n",
    "data['predicted_failure'] = randforest.predict(X)\n",
    "data.to_csv(\"/Users/wangtiles/AWS_Quicksight_project/dataset/predictions.csv\", index=False)"
   ]
  },
  {
   "cell_type": "code",
   "execution_count": null,
   "id": "24b5f824-db28-46cc-a0f2-3893884b7eaa",
   "metadata": {},
   "outputs": [],
   "source": [
    "\"\"\"Now onto AWS!!!\"\"\""
   ]
  }
 ],
 "metadata": {
  "kernelspec": {
   "display_name": "Python [conda env:base] *",
   "language": "python",
   "name": "conda-base-py"
  },
  "language_info": {
   "codemirror_mode": {
    "name": "ipython",
    "version": 3
   },
   "file_extension": ".py",
   "mimetype": "text/x-python",
   "name": "python",
   "nbconvert_exporter": "python",
   "pygments_lexer": "ipython3",
   "version": "3.12.7"
  }
 },
 "nbformat": 4,
 "nbformat_minor": 5
}
